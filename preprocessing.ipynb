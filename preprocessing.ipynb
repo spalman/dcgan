{
 "cells": [
  {
   "cell_type": "code",
   "execution_count": 1,
   "metadata": {},
   "outputs": [],
   "source": [
    "import os\n",
    "from PIL import Image"
   ]
  },
  {
   "cell_type": "code",
   "execution_count": 10,
   "metadata": {},
   "outputs": [],
   "source": [
    "pokemon_dataset_dir = 'pokemon'\n",
    "processed_dataset = 'pokemon_preprocessed'\n",
    "white_background = processed_dataset + '/white_background'\n",
    "flip = processed_dataset + '/flip'\n",
    "rotate = processed_dataset + '/rotate'\n",
    "resize = processed_dataset + '/resize'\n",
    "\n",
    "current_dir = os.getcwd()\n",
    "pokemon_dir = os.path.join(current_dir, pokemon_dataset_dir)\n",
    "white_background_dir = os.path.join(current_dir, white_background)\n",
    "flip_dir = os.path.join(current_dir, flip)\n",
    "rotate_dir = os.path.join(current_dir, rotate)\n",
    "resize_dir = os.path.join(current_dir, resize)\n",
    "\n",
    "if not os.path.exists(white_background_dir):\n",
    "                os.makedirs(white_background_dir)\n",
    "if not os.path.exists(flip_dir):\n",
    "                os.makedirs(flip_dir)\n",
    "if not os.path.exists(rotate_dir):\n",
    "                os.makedirs(rotate_dir)\n",
    "if not os.path.exists(resize_dir):\n",
    "                os.makedirs(resize_dir)"
   ]
  },
  {
   "cell_type": "code",
   "execution_count": 4,
   "metadata": {},
   "outputs": [],
   "source": [
    "def rgba2rgb(image):\n",
    "    convert_image = image.convert('RGBA') # Convert to RGBA to make sure it's a supported alpha channel\n",
    "    new_img = Image.new(\"RGB\", convert_image.size, (255, 255, 255))\n",
    "    new_img.paste(convert_image, mask=convert_image.split()[3]) # 3 is the alpha channel\n",
    "\n",
    "    return new_img"
   ]
  },
  {
   "cell_type": "code",
   "execution_count": 5,
   "metadata": {},
   "outputs": [],
   "source": [
    "def crop(image, size):\n",
    "    width, height = image.size   # Get dimensions\n",
    "    new_width = size\n",
    "    new_height = size\n",
    "\n",
    "    left = (width - new_width)/2\n",
    "    top = (height - new_height)/2\n",
    "    right = (width + new_width)/2\n",
    "    bottom = (height + new_height)/2\n",
    "\n",
    "    new_img = image.crop((left, top, right, bottom))\n",
    "    return new_img"
   ]
  },
  {
   "cell_type": "code",
   "execution_count": 6,
   "metadata": {},
   "outputs": [],
   "source": [
    "def flip_image(image):\n",
    "    new_img = image.transpose(Image.FLIP_LEFT_RIGHT)\n",
    "    return new_img"
   ]
  },
  {
   "cell_type": "code",
   "execution_count": 7,
   "metadata": {},
   "outputs": [],
   "source": [
    "def rotate_image(image, degree):\n",
    "    new_img = image.convert('RGBA') # convert to RGBA to get transparent background\n",
    "    new_img = new_img.rotate(degree)\n",
    "    background = Image.new(\"RGB\", new_img.size, (255, 255, 255))\n",
    "    background.paste(new_img, mask=new_img.split()[3]) # 3 is the alpha channel\n",
    "    return background\n",
    "\n"
   ]
  },
  {
   "cell_type": "code",
   "execution_count": 8,
   "metadata": {},
   "outputs": [],
   "source": [
    "def resize_image(image, width, height):\n",
    "    new_img = image.resize((width,height))\n",
    "    return new_img"
   ]
  },
  {
   "cell_type": "code",
   "execution_count": 13,
   "metadata": {},
   "outputs": [],
   "source": [
    "# Convert from RGBA to RGB\n",
    "# Crop converted image to 200x200\n",
    "for each in os.listdir(pokemon_dir):\n",
    "    img = Image.open(pokemon_dir + '/' + each, 'r')\n",
    "    img.load()\n",
    "    rgb_img = rgba2rgb(img)\n",
    "    #crop_img = crop(rgb_img, 200)\n",
    "    rgb_img.save(white_background + '/' + each[:-3] + 'jpg', 'JPEG', quality=100)"
   ]
  },
  {
   "cell_type": "code",
   "execution_count": 14,
   "metadata": {},
   "outputs": [],
   "source": [
    "for each in os.listdir(white_background_dir):\n",
    "    img = Image.open(white_background + '/' + each, 'r')\n",
    "    img.load()\n",
    "    resize_img = resize_image(img, 64, 64)\n",
    "    resize_img.save(resize + '/' + each[:-4] + '.jpg', 'JPEG', quality=100)"
   ]
  },
  {
   "cell_type": "code",
   "execution_count": 15,
   "metadata": {},
   "outputs": [],
   "source": [
    "# Flip image horizontally\n",
    "for each in os.listdir(resize_dir):\n",
    "    img = Image.open(resize + '/' + each, 'r')\n",
    "    img.load()\n",
    "    flip_img = flip_image(img)\n",
    "    flip_img.save(flip + '/' + each[:-4] + '-f.jpg', 'JPEG', quality=100)"
   ]
  },
  {
   "cell_type": "code",
   "execution_count": 16,
   "metadata": {},
   "outputs": [],
   "source": [
    "for each in os.listdir(resize_dir):\n",
    "    img = Image.open(resize + '/' + each, 'r')\n",
    "    img.load()\n",
    "    rotate3deg = rotate_image(img, 3)\n",
    "    rotate3deg.save(rotate + '/' + each[:-4] + '_ccwr3.jpg', 'JPEG', quality=100)\n",
    "    rotate5deg = rotate_image(img, 5)\n",
    "    rotate5deg.save(rotate + '/' + each[:-4] + '_ccwr5.jpg', 'JPEG', quality=100)\n",
    "    rotate7deg = rotate_image(img, 7)\n",
    "    rotate7deg.save(rotate + '/' + each[:-4] + '_ccwr7.jpg', 'JPEG', quality=100)\n",
    "    rotate3degcw = rotate_image(img, -3)\n",
    "    rotate3degcw.save(rotate + '/' + each[:-4] + '_cwr3.jpg', 'JPEG', quality=100)\n",
    "    rotate5degcw = rotate_image(img, -5)\n",
    "    rotate5degcw.save(rotate + '/' + each[:-4] + '_cwr5.jpg', 'JPEG', quality=100)\n",
    "    rotate7degcw = rotate_image(img, -7)\n",
    "    rotate7degcw.save(rotate + '/' + each[:-4] + '_cwr7.jpg', 'JPEG', quality=100)"
   ]
  },
  {
   "cell_type": "code",
   "execution_count": 17,
   "metadata": {},
   "outputs": [],
   "source": [
    "for each in os.listdir(flip_dir):\n",
    "    img = Image.open(flip + '/' + each, 'r')\n",
    "    img.load()\n",
    "    rotate3deg = rotate_image(img, 3)\n",
    "    rotate3deg.save(rotate + '/' + each[:-4] + '_ccwr3.jpg', 'JPEG', quality=100)\n",
    "    rotate5deg = rotate_image(img, 5)\n",
    "    rotate5deg.save(rotate + '/' + each[:-4] + '_ccwr5.jpg', 'JPEG', quality=100)\n",
    "    rotate7deg = rotate_image(img, 7)\n",
    "    rotate7deg.save(rotate + '/' + each[:-4] + '_ccwr7.jpg', 'JPEG', quality=100)\n",
    "    rotate3degcw = rotate_image(img, -3)\n",
    "    rotate3degcw.save(rotate + '/' + each[:-4] + '_cwr3.jpg', 'JPEG', quality=100)\n",
    "    rotate5degcw = rotate_image(img, -5)\n",
    "    rotate5degcw.save(rotate + '/' + each[:-4] + '_cwr5.jpg', 'JPEG', quality=100)\n",
    "    rotate7degcw = rotate_image(img, -7)\n",
    "    rotate7degcw.save(rotate + '/' + each[:-4] + '_cwr7.jpg', 'JPEG', quality=100)"
   ]
  }
 ],
 "metadata": {
  "kernelspec": {
   "display_name": "Python 3",
   "language": "python",
   "name": "python3"
  },
  "language_info": {
   "codemirror_mode": {
    "name": "ipython",
    "version": 3
   },
   "file_extension": ".py",
   "mimetype": "text/x-python",
   "name": "python",
   "nbconvert_exporter": "python",
   "pygments_lexer": "ipython3",
   "version": "3.6.7"
  }
 },
 "nbformat": 4,
 "nbformat_minor": 2
}
